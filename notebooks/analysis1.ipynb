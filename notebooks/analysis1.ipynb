{
 "cells": [
  {
   "cell_type": "markdown",
   "metadata": {
    "tags": []
   },
   "source": [
    "# Alexandra Green"
   ]
  },
  {
   "cell_type": "markdown",
   "metadata": {
    "tags": []
   },
   "source": [
    "## Research question/interests\n",
    "\n",
    "I am researching *which MLS playoff winning team has the worst goal differential* and *how their shots and shots on goal compare to the team with the best goal differential*."
   ]
  },
  {
   "cell_type": "code",
   "execution_count": 1,
   "metadata": {
    "tags": []
   },
   "outputs": [],
   "source": [
    "import numpy as np\n",
    "import pandas as pd\n",
    "import matplotlib.pylab as plt\n",
    "import seaborn as sns\n",
    "import project_functions1 as pf1"
   ]
  },
  {
   "cell_type": "markdown",
   "metadata": {
    "tags": []
   },
   "source": [
    "### Player Data for Shots and Shots on Goal"
   ]
  },
  {
   "cell_type": "code",
   "execution_count": 2,
   "metadata": {},
   "outputs": [],
   "source": [
    "pShots = pd.read_csv('../data/raw/all_players.csv')"
   ]
  },
  {
   "cell_type": "markdown",
   "metadata": {},
   "source": [
    "### Team Data for Goal Differential and Yearly Standings"
   ]
  },
  {
   "cell_type": "code",
   "execution_count": 3,
   "metadata": {},
   "outputs": [],
   "source": [
    "gDifferential = pd.read_csv('../data/raw/all_tables.csv')"
   ]
  },
  {
   "cell_type": "markdown",
   "metadata": {},
   "source": [
    "# Exploratory Data Analysis\n",
    "### Describe the Dataset\n",
    "This dataset was found on Kaggle and was provided by Joseph Kohr. The dataset includes all statistics relevant to the games, year, and players, including goals against, goals for, each season's league champion, shots and shots on goal. This is just the data that I will be working with in my analysis, but the data also includes all important data about each team, player and season beginning in 1996 until now. Joseph Kohr scrapped data from the Major League Soccer website for player data and fbref, a statistics site dedicated to both women's and men's soccer competitions. Data was also taken from espn and wikipedia and his objective for scrapping the data was just for public interest. \n",
    "### Initial Thoughts\n",
    "There is a lot of data in these datasets, most of the columns will not be of any use to me. I will have to drop those columns and I may have to drop years where they played less games than they do now. This way all the data I will be working with will all be consistent. I will be looking to gain insight on each team's shots and shots on goals for each season, which mean I will have to add each player's shots and shots on goal from a team's roster that season. In addition, having the goal differential data makes it a lot easier when looking at the first table. "
   ]
  },
  {
   "cell_type": "markdown",
   "metadata": {},
   "source": [
    "### All_Tables Data"
   ]
  },
  {
   "cell_type": "code",
   "execution_count": 4,
   "metadata": {},
   "outputs": [
    {
     "name": "stdout",
     "output_type": "stream",
     "text": [
      "The columns and rows in this table: (788, 17)\n",
      "Names of the columns in this table: Index(['Pos', 'Team', 'GP', 'W', 'L', 'SW', 'GF', 'GA', 'GD', 'Pts',\n",
      "       'Qualification', 'Conference', 'Year', 'SL', 'D', 'Head-to-head',\n",
      "       'PPG'],\n",
      "      dtype='object')\n"
     ]
    },
    {
     "data": {
      "text/html": [
       "<div>\n",
       "<style scoped>\n",
       "    .dataframe tbody tr th:only-of-type {\n",
       "        vertical-align: middle;\n",
       "    }\n",
       "\n",
       "    .dataframe tbody tr th {\n",
       "        vertical-align: top;\n",
       "    }\n",
       "\n",
       "    .dataframe thead th {\n",
       "        text-align: right;\n",
       "    }\n",
       "</style>\n",
       "<table border=\"1\" class=\"dataframe\">\n",
       "  <thead>\n",
       "    <tr style=\"text-align: right;\">\n",
       "      <th></th>\n",
       "      <th>count</th>\n",
       "      <th>mean</th>\n",
       "      <th>std</th>\n",
       "      <th>min</th>\n",
       "      <th>25%</th>\n",
       "      <th>50%</th>\n",
       "      <th>75%</th>\n",
       "      <th>max</th>\n",
       "    </tr>\n",
       "  </thead>\n",
       "  <tbody>\n",
       "    <tr>\n",
       "      <th>Pos</th>\n",
       "      <td>744.000000</td>\n",
       "      <td>7.420699</td>\n",
       "      <td>5.407154</td>\n",
       "      <td>1.000000</td>\n",
       "      <td>3.000000</td>\n",
       "      <td>6.000000</td>\n",
       "      <td>10.000000</td>\n",
       "      <td>27.000000</td>\n",
       "    </tr>\n",
       "    <tr>\n",
       "      <th>GP</th>\n",
       "      <td>788.000000</td>\n",
       "      <td>30.050761</td>\n",
       "      <td>6.915167</td>\n",
       "      <td>6.000000</td>\n",
       "      <td>30.000000</td>\n",
       "      <td>32.000000</td>\n",
       "      <td>34.000000</td>\n",
       "      <td>34.000000</td>\n",
       "    </tr>\n",
       "    <tr>\n",
       "      <th>W</th>\n",
       "      <td>788.000000</td>\n",
       "      <td>11.402284</td>\n",
       "      <td>4.202540</td>\n",
       "      <td>1.000000</td>\n",
       "      <td>9.000000</td>\n",
       "      <td>12.000000</td>\n",
       "      <td>14.000000</td>\n",
       "      <td>24.000000</td>\n",
       "    </tr>\n",
       "    <tr>\n",
       "      <th>L</th>\n",
       "      <td>788.000000</td>\n",
       "      <td>11.572335</td>\n",
       "      <td>4.553909</td>\n",
       "      <td>0.000000</td>\n",
       "      <td>9.000000</td>\n",
       "      <td>12.000000</td>\n",
       "      <td>14.250000</td>\n",
       "      <td>25.000000</td>\n",
       "    </tr>\n",
       "    <tr>\n",
       "      <th>SW</th>\n",
       "      <td>64.000000</td>\n",
       "      <td>3.500000</td>\n",
       "      <td>1.825742</td>\n",
       "      <td>0.000000</td>\n",
       "      <td>2.000000</td>\n",
       "      <td>3.000000</td>\n",
       "      <td>5.000000</td>\n",
       "      <td>10.000000</td>\n",
       "    </tr>\n",
       "    <tr>\n",
       "      <th>GF</th>\n",
       "      <td>788.000000</td>\n",
       "      <td>42.843909</td>\n",
       "      <td>13.546747</td>\n",
       "      <td>4.000000</td>\n",
       "      <td>37.000000</td>\n",
       "      <td>44.000000</td>\n",
       "      <td>51.000000</td>\n",
       "      <td>85.000000</td>\n",
       "    </tr>\n",
       "    <tr>\n",
       "      <th>GA</th>\n",
       "      <td>788.000000</td>\n",
       "      <td>42.838832</td>\n",
       "      <td>13.578448</td>\n",
       "      <td>3.000000</td>\n",
       "      <td>37.000000</td>\n",
       "      <td>44.000000</td>\n",
       "      <td>51.000000</td>\n",
       "      <td>75.000000</td>\n",
       "    </tr>\n",
       "    <tr>\n",
       "      <th>Year</th>\n",
       "      <td>788.000000</td>\n",
       "      <td>2011.454315</td>\n",
       "      <td>7.159053</td>\n",
       "      <td>1996.000000</td>\n",
       "      <td>2006.000000</td>\n",
       "      <td>2013.000000</td>\n",
       "      <td>2018.000000</td>\n",
       "      <td>2021.000000</td>\n",
       "    </tr>\n",
       "    <tr>\n",
       "      <th>SL</th>\n",
       "      <td>24.000000</td>\n",
       "      <td>3.958333</td>\n",
       "      <td>1.706233</td>\n",
       "      <td>0.000000</td>\n",
       "      <td>3.000000</td>\n",
       "      <td>4.000000</td>\n",
       "      <td>5.000000</td>\n",
       "      <td>7.000000</td>\n",
       "    </tr>\n",
       "    <tr>\n",
       "      <th>D</th>\n",
       "      <td>724.000000</td>\n",
       "      <td>7.516575</td>\n",
       "      <td>3.243208</td>\n",
       "      <td>0.000000</td>\n",
       "      <td>6.000000</td>\n",
       "      <td>8.000000</td>\n",
       "      <td>9.000000</td>\n",
       "      <td>18.000000</td>\n",
       "    </tr>\n",
       "    <tr>\n",
       "      <th>PPG</th>\n",
       "      <td>52.000000</td>\n",
       "      <td>1.385000</td>\n",
       "      <td>0.369931</td>\n",
       "      <td>0.700000</td>\n",
       "      <td>1.000000</td>\n",
       "      <td>1.390000</td>\n",
       "      <td>1.700000</td>\n",
       "      <td>2.040000</td>\n",
       "    </tr>\n",
       "  </tbody>\n",
       "</table>\n",
       "</div>"
      ],
      "text/plain": [
       "           count         mean        std          min          25%  \\\n",
       "Pos   744.000000     7.420699   5.407154     1.000000     3.000000   \n",
       "GP    788.000000    30.050761   6.915167     6.000000    30.000000   \n",
       "W     788.000000    11.402284   4.202540     1.000000     9.000000   \n",
       "L     788.000000    11.572335   4.553909     0.000000     9.000000   \n",
       "SW     64.000000     3.500000   1.825742     0.000000     2.000000   \n",
       "GF    788.000000    42.843909  13.546747     4.000000    37.000000   \n",
       "GA    788.000000    42.838832  13.578448     3.000000    37.000000   \n",
       "Year  788.000000  2011.454315   7.159053  1996.000000  2006.000000   \n",
       "SL     24.000000     3.958333   1.706233     0.000000     3.000000   \n",
       "D     724.000000     7.516575   3.243208     0.000000     6.000000   \n",
       "PPG    52.000000     1.385000   0.369931     0.700000     1.000000   \n",
       "\n",
       "              50%          75%          max  \n",
       "Pos      6.000000    10.000000    27.000000  \n",
       "GP      32.000000    34.000000    34.000000  \n",
       "W       12.000000    14.000000    24.000000  \n",
       "L       12.000000    14.250000    25.000000  \n",
       "SW       3.000000     5.000000    10.000000  \n",
       "GF      44.000000    51.000000    85.000000  \n",
       "GA      44.000000    51.000000    75.000000  \n",
       "Year  2013.000000  2018.000000  2021.000000  \n",
       "SL       4.000000     5.000000     7.000000  \n",
       "D        8.000000     9.000000    18.000000  \n",
       "PPG      1.390000     1.700000     2.040000  "
      ]
     },
     "execution_count": 4,
     "metadata": {},
     "output_type": "execute_result"
    }
   ],
   "source": [
    "print(f\"The columns and rows in this table: {gDifferential.shape}\")\n",
    "print(F\"Names of the columns in this table: {gDifferential.columns}\")\n",
    "gDifferential.describe().apply(lambda s: s.apply(lambda x: format(x, 'f'))).T"
   ]
  },
  {
   "cell_type": "code",
   "execution_count": 5,
   "metadata": {},
   "outputs": [
    {
     "data": {
      "text/plain": [
       "Pos              27\n",
       "Team             96\n",
       "GP               13\n",
       "W                24\n",
       "L                25\n",
       "SW                9\n",
       "GF               65\n",
       "GA               66\n",
       "GD               93\n",
       "Pts              69\n",
       "Qualification    86\n",
       "Conference        7\n",
       "Year             26\n",
       "SL                7\n",
       "D                18\n",
       "Head-to-head      2\n",
       "PPG              19\n",
       "dtype: int64"
      ]
     },
     "execution_count": 5,
     "metadata": {},
     "output_type": "execute_result"
    }
   ],
   "source": [
    "gDifferential.nunique(axis=0)"
   ]
  },
  {
   "cell_type": "code",
   "execution_count": 6,
   "metadata": {},
   "outputs": [
    {
     "data": {
      "text/html": [
       "<div>\n",
       "<style scoped>\n",
       "    .dataframe tbody tr th:only-of-type {\n",
       "        vertical-align: middle;\n",
       "    }\n",
       "\n",
       "    .dataframe tbody tr th {\n",
       "        vertical-align: top;\n",
       "    }\n",
       "\n",
       "    .dataframe thead th {\n",
       "        text-align: right;\n",
       "    }\n",
       "</style>\n",
       "<table border=\"1\" class=\"dataframe\">\n",
       "  <thead>\n",
       "    <tr style=\"text-align: right;\">\n",
       "      <th></th>\n",
       "      <th>count</th>\n",
       "      <th>unique</th>\n",
       "      <th>top</th>\n",
       "      <th>freq</th>\n",
       "    </tr>\n",
       "  </thead>\n",
       "  <tbody>\n",
       "    <tr>\n",
       "      <th>Team</th>\n",
       "      <td>788</td>\n",
       "      <td>96</td>\n",
       "      <td>New England Revolution</td>\n",
       "      <td>44</td>\n",
       "    </tr>\n",
       "    <tr>\n",
       "      <th>GD</th>\n",
       "      <td>788</td>\n",
       "      <td>93</td>\n",
       "      <td>4</td>\n",
       "      <td>38</td>\n",
       "    </tr>\n",
       "    <tr>\n",
       "      <th>Pts</th>\n",
       "      <td>788</td>\n",
       "      <td>69</td>\n",
       "      <td>39</td>\n",
       "      <td>42</td>\n",
       "    </tr>\n",
       "    <tr>\n",
       "      <th>Qualification</th>\n",
       "      <td>292</td>\n",
       "      <td>86</td>\n",
       "      <td>Playoffs</td>\n",
       "      <td>32</td>\n",
       "    </tr>\n",
       "    <tr>\n",
       "      <th>Conference</th>\n",
       "      <td>788</td>\n",
       "      <td>7</td>\n",
       "      <td>Overall</td>\n",
       "      <td>371</td>\n",
       "    </tr>\n",
       "    <tr>\n",
       "      <th>Head-to-head</th>\n",
       "      <td>4</td>\n",
       "      <td>2</td>\n",
       "      <td>DAL: 7 ptsCOL: 4 pts</td>\n",
       "      <td>2</td>\n",
       "    </tr>\n",
       "  </tbody>\n",
       "</table>\n",
       "</div>"
      ],
      "text/plain": [
       "              count unique                     top freq\n",
       "Team            788     96  New England Revolution   44\n",
       "GD              788     93                       4   38\n",
       "Pts             788     69                      39   42\n",
       "Qualification   292     86                Playoffs   32\n",
       "Conference      788      7                 Overall  371\n",
       "Head-to-head      4      2    DAL: 7 ptsCOL: 4 pts    2"
      ]
     },
     "execution_count": 6,
     "metadata": {},
     "output_type": "execute_result"
    }
   ],
   "source": [
    "gDifferential.describe(include='object').T"
   ]
  },
  {
   "cell_type": "markdown",
   "metadata": {},
   "source": [
    "### All_players Data"
   ]
  },
  {
   "cell_type": "code",
   "execution_count": 7,
   "metadata": {},
   "outputs": [
    {
     "name": "stdout",
     "output_type": "stream",
     "text": [
      "The columns and rows of this table: (15767, 28)\n",
      "The names of the columns in this table: Index(['Player', 'Club', 'POS', 'GP', 'GS', 'MINS', 'G', 'A', 'SHTS', 'SOG',\n",
      "       'GWG', 'PKG/A', 'HmG', 'RdG', 'G/90min', 'SC%', 'GWA', 'HmA', 'RdA',\n",
      "       'A/90min', 'FC', 'FS', 'OFF', 'YC', 'RC', 'SOG%', 'Year', 'Season'],\n",
      "      dtype='object')\n"
     ]
    },
    {
     "data": {
      "text/html": [
       "<div>\n",
       "<style scoped>\n",
       "    .dataframe tbody tr th:only-of-type {\n",
       "        vertical-align: middle;\n",
       "    }\n",
       "\n",
       "    .dataframe tbody tr th {\n",
       "        vertical-align: top;\n",
       "    }\n",
       "\n",
       "    .dataframe thead th {\n",
       "        text-align: right;\n",
       "    }\n",
       "</style>\n",
       "<table border=\"1\" class=\"dataframe\">\n",
       "  <thead>\n",
       "    <tr style=\"text-align: right;\">\n",
       "      <th></th>\n",
       "      <th>GP</th>\n",
       "      <th>GS</th>\n",
       "      <th>MINS</th>\n",
       "      <th>G</th>\n",
       "      <th>A</th>\n",
       "      <th>SHTS</th>\n",
       "      <th>SOG</th>\n",
       "      <th>GWG</th>\n",
       "      <th>HmG</th>\n",
       "      <th>RdG</th>\n",
       "      <th>...</th>\n",
       "      <th>HmA</th>\n",
       "      <th>RdA</th>\n",
       "      <th>A/90min</th>\n",
       "      <th>FC</th>\n",
       "      <th>FS</th>\n",
       "      <th>OFF</th>\n",
       "      <th>YC</th>\n",
       "      <th>RC</th>\n",
       "      <th>SOG%</th>\n",
       "      <th>Year</th>\n",
       "    </tr>\n",
       "  </thead>\n",
       "  <tbody>\n",
       "    <tr>\n",
       "      <th>count</th>\n",
       "      <td>15767.000000</td>\n",
       "      <td>15767.000000</td>\n",
       "      <td>15767.000000</td>\n",
       "      <td>15767.000000</td>\n",
       "      <td>15767.000000</td>\n",
       "      <td>15767.000000</td>\n",
       "      <td>15767.000000</td>\n",
       "      <td>15767.000000</td>\n",
       "      <td>15767.000000</td>\n",
       "      <td>15767.000000</td>\n",
       "      <td>...</td>\n",
       "      <td>15767.000000</td>\n",
       "      <td>15767.000000</td>\n",
       "      <td>15767.000000</td>\n",
       "      <td>15767.000000</td>\n",
       "      <td>15767.000000</td>\n",
       "      <td>15767.000000</td>\n",
       "      <td>15767.000000</td>\n",
       "      <td>15767.000000</td>\n",
       "      <td>10697.000000</td>\n",
       "      <td>15767.000000</td>\n",
       "    </tr>\n",
       "    <tr>\n",
       "      <th>mean</th>\n",
       "      <td>10.793049</td>\n",
       "      <td>8.494641</td>\n",
       "      <td>765.211327</td>\n",
       "      <td>1.195408</td>\n",
       "      <td>1.220587</td>\n",
       "      <td>10.867508</td>\n",
       "      <td>4.313757</td>\n",
       "      <td>0.313947</td>\n",
       "      <td>0.707871</td>\n",
       "      <td>0.487537</td>\n",
       "      <td>...</td>\n",
       "      <td>0.728991</td>\n",
       "      <td>0.491596</td>\n",
       "      <td>0.107684</td>\n",
       "      <td>11.217987</td>\n",
       "      <td>10.521913</td>\n",
       "      <td>2.166424</td>\n",
       "      <td>1.431598</td>\n",
       "      <td>0.099638</td>\n",
       "      <td>inf</td>\n",
       "      <td>2010.213991</td>\n",
       "    </tr>\n",
       "    <tr>\n",
       "      <th>std</th>\n",
       "      <td>10.878347</td>\n",
       "      <td>9.924136</td>\n",
       "      <td>871.890880</td>\n",
       "      <td>2.688262</td>\n",
       "      <td>2.336127</td>\n",
       "      <td>18.092364</td>\n",
       "      <td>7.956445</td>\n",
       "      <td>0.845024</td>\n",
       "      <td>1.702995</td>\n",
       "      <td>1.217168</td>\n",
       "      <td>...</td>\n",
       "      <td>1.511027</td>\n",
       "      <td>1.088750</td>\n",
       "      <td>0.436118</td>\n",
       "      <td>13.892676</td>\n",
       "      <td>14.786274</td>\n",
       "      <td>5.472077</td>\n",
       "      <td>2.063006</td>\n",
       "      <td>0.333209</td>\n",
       "      <td>nan</td>\n",
       "      <td>7.209422</td>\n",
       "    </tr>\n",
       "    <tr>\n",
       "      <th>min</th>\n",
       "      <td>0.000000</td>\n",
       "      <td>0.000000</td>\n",
       "      <td>0.000000</td>\n",
       "      <td>0.000000</td>\n",
       "      <td>0.000000</td>\n",
       "      <td>0.000000</td>\n",
       "      <td>0.000000</td>\n",
       "      <td>0.000000</td>\n",
       "      <td>0.000000</td>\n",
       "      <td>0.000000</td>\n",
       "      <td>...</td>\n",
       "      <td>0.000000</td>\n",
       "      <td>0.000000</td>\n",
       "      <td>0.000000</td>\n",
       "      <td>0.000000</td>\n",
       "      <td>0.000000</td>\n",
       "      <td>0.000000</td>\n",
       "      <td>0.000000</td>\n",
       "      <td>0.000000</td>\n",
       "      <td>0.000000</td>\n",
       "      <td>1996.000000</td>\n",
       "    </tr>\n",
       "    <tr>\n",
       "      <th>25%</th>\n",
       "      <td>1.000000</td>\n",
       "      <td>0.000000</td>\n",
       "      <td>33.000000</td>\n",
       "      <td>0.000000</td>\n",
       "      <td>0.000000</td>\n",
       "      <td>0.000000</td>\n",
       "      <td>0.000000</td>\n",
       "      <td>0.000000</td>\n",
       "      <td>0.000000</td>\n",
       "      <td>0.000000</td>\n",
       "      <td>...</td>\n",
       "      <td>0.000000</td>\n",
       "      <td>0.000000</td>\n",
       "      <td>0.000000</td>\n",
       "      <td>0.000000</td>\n",
       "      <td>0.000000</td>\n",
       "      <td>0.000000</td>\n",
       "      <td>0.000000</td>\n",
       "      <td>0.000000</td>\n",
       "      <td>20.000000</td>\n",
       "      <td>2005.000000</td>\n",
       "    </tr>\n",
       "    <tr>\n",
       "      <th>50%</th>\n",
       "      <td>6.000000</td>\n",
       "      <td>4.000000</td>\n",
       "      <td>338.000000</td>\n",
       "      <td>0.000000</td>\n",
       "      <td>0.000000</td>\n",
       "      <td>3.000000</td>\n",
       "      <td>1.000000</td>\n",
       "      <td>0.000000</td>\n",
       "      <td>0.000000</td>\n",
       "      <td>0.000000</td>\n",
       "      <td>...</td>\n",
       "      <td>0.000000</td>\n",
       "      <td>0.000000</td>\n",
       "      <td>0.000000</td>\n",
       "      <td>5.000000</td>\n",
       "      <td>4.000000</td>\n",
       "      <td>0.000000</td>\n",
       "      <td>0.000000</td>\n",
       "      <td>0.000000</td>\n",
       "      <td>36.000000</td>\n",
       "      <td>2012.000000</td>\n",
       "    </tr>\n",
       "    <tr>\n",
       "      <th>75%</th>\n",
       "      <td>21.000000</td>\n",
       "      <td>16.000000</td>\n",
       "      <td>1414.500000</td>\n",
       "      <td>1.000000</td>\n",
       "      <td>1.000000</td>\n",
       "      <td>13.000000</td>\n",
       "      <td>5.000000</td>\n",
       "      <td>0.000000</td>\n",
       "      <td>1.000000</td>\n",
       "      <td>0.000000</td>\n",
       "      <td>...</td>\n",
       "      <td>1.000000</td>\n",
       "      <td>1.000000</td>\n",
       "      <td>0.140000</td>\n",
       "      <td>18.000000</td>\n",
       "      <td>15.000000</td>\n",
       "      <td>2.000000</td>\n",
       "      <td>2.000000</td>\n",
       "      <td>0.000000</td>\n",
       "      <td>50.000000</td>\n",
       "      <td>2016.000000</td>\n",
       "    </tr>\n",
       "    <tr>\n",
       "      <th>max</th>\n",
       "      <td>35.000000</td>\n",
       "      <td>34.000000</td>\n",
       "      <td>3060.000000</td>\n",
       "      <td>34.000000</td>\n",
       "      <td>26.000000</td>\n",
       "      <td>181.000000</td>\n",
       "      <td>76.000000</td>\n",
       "      <td>11.000000</td>\n",
       "      <td>22.000000</td>\n",
       "      <td>16.000000</td>\n",
       "      <td>...</td>\n",
       "      <td>16.000000</td>\n",
       "      <td>13.000000</td>\n",
       "      <td>30.000000</td>\n",
       "      <td>86.000000</td>\n",
       "      <td>112.000000</td>\n",
       "      <td>82.000000</td>\n",
       "      <td>14.000000</td>\n",
       "      <td>3.000000</td>\n",
       "      <td>inf</td>\n",
       "      <td>2020.000000</td>\n",
       "    </tr>\n",
       "  </tbody>\n",
       "</table>\n",
       "<p>8 rows × 23 columns</p>\n",
       "</div>"
      ],
      "text/plain": [
       "                 GP            GS          MINS             G             A  \\\n",
       "count  15767.000000  15767.000000  15767.000000  15767.000000  15767.000000   \n",
       "mean      10.793049      8.494641    765.211327      1.195408      1.220587   \n",
       "std       10.878347      9.924136    871.890880      2.688262      2.336127   \n",
       "min        0.000000      0.000000      0.000000      0.000000      0.000000   \n",
       "25%        1.000000      0.000000     33.000000      0.000000      0.000000   \n",
       "50%        6.000000      4.000000    338.000000      0.000000      0.000000   \n",
       "75%       21.000000     16.000000   1414.500000      1.000000      1.000000   \n",
       "max       35.000000     34.000000   3060.000000     34.000000     26.000000   \n",
       "\n",
       "               SHTS           SOG           GWG           HmG           RdG  \\\n",
       "count  15767.000000  15767.000000  15767.000000  15767.000000  15767.000000   \n",
       "mean      10.867508      4.313757      0.313947      0.707871      0.487537   \n",
       "std       18.092364      7.956445      0.845024      1.702995      1.217168   \n",
       "min        0.000000      0.000000      0.000000      0.000000      0.000000   \n",
       "25%        0.000000      0.000000      0.000000      0.000000      0.000000   \n",
       "50%        3.000000      1.000000      0.000000      0.000000      0.000000   \n",
       "75%       13.000000      5.000000      0.000000      1.000000      0.000000   \n",
       "max      181.000000     76.000000     11.000000     22.000000     16.000000   \n",
       "\n",
       "       ...           HmA           RdA       A/90min            FC  \\\n",
       "count  ...  15767.000000  15767.000000  15767.000000  15767.000000   \n",
       "mean   ...      0.728991      0.491596      0.107684     11.217987   \n",
       "std    ...      1.511027      1.088750      0.436118     13.892676   \n",
       "min    ...      0.000000      0.000000      0.000000      0.000000   \n",
       "25%    ...      0.000000      0.000000      0.000000      0.000000   \n",
       "50%    ...      0.000000      0.000000      0.000000      5.000000   \n",
       "75%    ...      1.000000      1.000000      0.140000     18.000000   \n",
       "max    ...     16.000000     13.000000     30.000000     86.000000   \n",
       "\n",
       "                 FS           OFF            YC            RC          SOG%  \\\n",
       "count  15767.000000  15767.000000  15767.000000  15767.000000  10697.000000   \n",
       "mean      10.521913      2.166424      1.431598      0.099638           inf   \n",
       "std       14.786274      5.472077      2.063006      0.333209           nan   \n",
       "min        0.000000      0.000000      0.000000      0.000000      0.000000   \n",
       "25%        0.000000      0.000000      0.000000      0.000000     20.000000   \n",
       "50%        4.000000      0.000000      0.000000      0.000000     36.000000   \n",
       "75%       15.000000      2.000000      2.000000      0.000000     50.000000   \n",
       "max      112.000000     82.000000     14.000000      3.000000           inf   \n",
       "\n",
       "               Year  \n",
       "count  15767.000000  \n",
       "mean    2010.213991  \n",
       "std        7.209422  \n",
       "min     1996.000000  \n",
       "25%     2005.000000  \n",
       "50%     2012.000000  \n",
       "75%     2016.000000  \n",
       "max     2020.000000  \n",
       "\n",
       "[8 rows x 23 columns]"
      ]
     },
     "execution_count": 7,
     "metadata": {},
     "output_type": "execute_result"
    }
   ],
   "source": [
    "print(f\"The columns and rows of this table: {pShots.shape}\")\n",
    "print(f\"The names of the columns in this table: {pShots.columns}\")\n",
    "pShots.describe().apply(lambda s: s.apply(lambda x: format(x, 'f')))"
   ]
  },
  {
   "cell_type": "code",
   "execution_count": 8,
   "metadata": {},
   "outputs": [
    {
     "data": {
      "text/html": [
       "<div>\n",
       "<style scoped>\n",
       "    .dataframe tbody tr th:only-of-type {\n",
       "        vertical-align: middle;\n",
       "    }\n",
       "\n",
       "    .dataframe tbody tr th {\n",
       "        vertical-align: top;\n",
       "    }\n",
       "\n",
       "    .dataframe thead th {\n",
       "        text-align: right;\n",
       "    }\n",
       "</style>\n",
       "<table border=\"1\" class=\"dataframe\">\n",
       "  <thead>\n",
       "    <tr style=\"text-align: right;\">\n",
       "      <th></th>\n",
       "      <th>Player</th>\n",
       "      <th>Club</th>\n",
       "      <th>POS</th>\n",
       "      <th>PKG/A</th>\n",
       "      <th>Season</th>\n",
       "    </tr>\n",
       "  </thead>\n",
       "  <tbody>\n",
       "    <tr>\n",
       "      <th>count</th>\n",
       "      <td>15767</td>\n",
       "      <td>10274</td>\n",
       "      <td>15767</td>\n",
       "      <td>15767</td>\n",
       "      <td>15767</td>\n",
       "    </tr>\n",
       "    <tr>\n",
       "      <th>unique</th>\n",
       "      <td>3304</td>\n",
       "      <td>51</td>\n",
       "      <td>7</td>\n",
       "      <td>29</td>\n",
       "      <td>2</td>\n",
       "    </tr>\n",
       "    <tr>\n",
       "      <th>top</th>\n",
       "      <td>Kyle Beckerman</td>\n",
       "      <td>COL</td>\n",
       "      <td>M</td>\n",
       "      <td>0/0</td>\n",
       "      <td>reg</td>\n",
       "    </tr>\n",
       "    <tr>\n",
       "      <th>freq</th>\n",
       "      <td>37</td>\n",
       "      <td>685</td>\n",
       "      <td>5984</td>\n",
       "      <td>14809</td>\n",
       "      <td>10274</td>\n",
       "    </tr>\n",
       "  </tbody>\n",
       "</table>\n",
       "</div>"
      ],
      "text/plain": [
       "                Player   Club    POS  PKG/A Season\n",
       "count            15767  10274  15767  15767  15767\n",
       "unique            3304     51      7     29      2\n",
       "top     Kyle Beckerman    COL      M    0/0    reg\n",
       "freq                37    685   5984  14809  10274"
      ]
     },
     "execution_count": 8,
     "metadata": {},
     "output_type": "execute_result"
    }
   ],
   "source": [
    "pShots.describe(include='object')"
   ]
  },
  {
   "cell_type": "code",
   "execution_count": 9,
   "metadata": {},
   "outputs": [
    {
     "data": {
      "text/plain": [
       "Player     3304\n",
       "Club         51\n",
       "POS           7\n",
       "GP           36\n",
       "GS           35\n",
       "MINS       2724\n",
       "G            30\n",
       "A            22\n",
       "SHTS        135\n",
       "SOG          70\n",
       "GWG          12\n",
       "PKG/A        29\n",
       "HmG          22\n",
       "RdG          15\n",
       "G/90min     166\n",
       "SC%         285\n",
       "GWA           9\n",
       "HmA          16\n",
       "RdA          14\n",
       "A/90min     165\n",
       "FC           83\n",
       "FS          100\n",
       "OFF          58\n",
       "YC           15\n",
       "RC            4\n",
       "SOG%        727\n",
       "Year         25\n",
       "Season        2\n",
       "dtype: int64"
      ]
     },
     "execution_count": 9,
     "metadata": {},
     "output_type": "execute_result"
    }
   ],
   "source": [
    "pShots.nunique(axis=0)"
   ]
  },
  {
   "cell_type": "markdown",
   "metadata": {},
   "source": [
    "# Analysis Pipeline\n",
    "## Load Data"
   ]
  },
  {
   "cell_type": "code",
   "execution_count": 10,
   "metadata": {},
   "outputs": [],
   "source": [
    "pShots = pd.read_csv('../data/raw/all_players.csv')\n",
    "gDifferential = pd.read_csv('../data/raw/all_tables.csv')"
   ]
  },
  {
   "cell_type": "markdown",
   "metadata": {},
   "source": [
    "## Clean Data"
   ]
  },
  {
   "cell_type": "markdown",
   "metadata": {},
   "source": [
    "### All_tables"
   ]
  },
  {
   "cell_type": "code",
   "execution_count": 11,
   "metadata": {},
   "outputs": [
    {
     "name": "stdout",
     "output_type": "stream",
     "text": [
      "No duplicated entries found\n"
     ]
    }
   ],
   "source": [
    "#Dropped columns with more than 40% null values, because it made the dataset very large.\n",
    "threshold = len(gDifferential) *.40\n",
    "season_games_min = 30\n",
    "gDiff_cleaned = gDifferential.copy()\n",
    "gDiff_cleaned = gDiff_cleaned.dropna(thresh=threshold, axis=1)\n",
    "#check for duplicates\n",
    "if len(gDiff_cleaned[gDiff_cleaned.duplicated()]) > 0:\n",
    "    print(\"No. of duplicated entries: \", len(gDiff_cleaned[gDiff_cleaned.duplicated()]))\n",
    "    print(gDiff_cleaned[gDiff_cleaned.duplicated(keep=False)].sort_values(by=list(gDiff_cleaned.columns)).head())\n",
    "else:\n",
    "    print(\"No duplicated entries found\")\n",
    "#Drop D row\n",
    "gDiff_cleaned = gDiff_cleaned.drop(['D'], axis=1)"
   ]
  },
  {
   "cell_type": "markdown",
   "metadata": {},
   "source": [
    "### All_players"
   ]
  },
  {
   "cell_type": "code",
   "execution_count": 12,
   "metadata": {},
   "outputs": [
    {
     "name": "stdout",
     "output_type": "stream",
     "text": [
      "No. of duplicated entries:  337\n",
      "         Player Club POS  GP  GS  MINS  G  A  SHTS  SOG  ...  RdA A/90min  FC  \\\n",
      "32    A.J. Wood  MET   F  21  13  1136  5  2    34   22  ...    0    0.16  17   \n",
      "250   A.J. Wood  MET   F  21  13  1136  5  2    34   22  ...    0    0.16  17   \n",
      "9671  A.J. Wood  NaN   F   2   2    96  0  0     1    1  ...    0    0.00   1   \n",
      "9790  A.J. Wood  NaN   F   2   2    96  0  0     1    1  ...    0    0.00   1   \n",
      "153   Adam Frye  TB    D  15   9   725  0  1     6    4  ...    0    0.12  14   \n",
      "\n",
      "      FS  OFF  YC  RC    SOG%  Year  Season  \n",
      "32    25    4   0   0   64.71  1996     reg  \n",
      "250   25    4   0   0   64.71  1996     reg  \n",
      "9671   2    0   0   0  100.00  1996    post  \n",
      "9790   2    0   0   0  100.00  1996    post  \n",
      "153    6    3   3   1   66.67  1996     reg  \n",
      "\n",
      "[5 rows x 28 columns]\n"
     ]
    }
   ],
   "source": [
    "pShots_cleaned = pShots.copy()\n",
    "#check for duplicates\n",
    "if len(pShots_cleaned[pShots_cleaned.duplicated()]) > 0:\n",
    "    print(\"No. of duplicated entries: \", len(pShots_cleaned[pShots_cleaned.duplicated()]))\n",
    "    print(pShots_cleaned[pShots_cleaned.duplicated(keep=False)].sort_values(by=list(pShots_cleaned.columns)).head())\n",
    "else:\n",
    "    print(\"No duplicated entries found\")\n",
    "pShots_cleaned.drop_duplicates(inplace=True)"
   ]
  },
  {
   "cell_type": "markdown",
   "metadata": {},
   "source": [
    "## Process Data"
   ]
  },
  {
   "cell_type": "markdown",
   "metadata": {},
   "source": [
    "### All_tables"
   ]
  },
  {
   "cell_type": "code",
   "execution_count": 13,
   "metadata": {
    "tags": []
   },
   "outputs": [
    {
     "data": {
      "text/plain": [
       "array([1996, 1997, 2000, 2004, 2005, 2006, 2007, 2008, 2009, 2010, 2011,\n",
       "       2012, 2013, 2014, 2015, 2016, 2017, 2018, 2019], dtype=int64)"
      ]
     },
     "execution_count": 13,
     "metadata": {},
     "output_type": "execute_result"
    }
   ],
   "source": [
    "#Drop any seasons with less than 30 games\n",
    "gDiff_cleaned = gDiff_cleaned[gDiff_cleaned['GP'] >= season_games_min]\n",
    "#Drop any statistics for regular season conference play to gain insight on overall statistics\n",
    "gDiff_cleaned = gDiff_cleaned[(gDiff_cleaned['Conference'] == 'Overall') & (gDiff_cleaned['Pos'] == 1.0)]\n",
    "gDiff_cleaned = gDiff_cleaned.replace(['Los Angeles Galaxy', 'LA Galaxy '],'LA Galaxy')\n",
    "gDiff_cleaned = gDiff_cleaned.replace(['Kansas City Wizards', 'Kansas City Wizards ', 'Kansas City Wiz'],'Sporting Kansas City')\n",
    "gDiff_cleaned = gDiff_cleaned.replace(['Columbus Crew SC'],'Columbus Crew')\n",
    "gDiff_cleaned = gDiff_cleaned.replace(['San Jose Clash'],'San Jose Earthquakes')\n",
    "gDiff_cleaned = gDiff_cleaned.replace(['MetroStars ', 'MetroStars', 'NY/NJ MetroStars'],'New York Red Bulls')\n",
    "gDiff_cleaned = gDiff_cleaned.replace(['49[a]'],'49')\n",
    "#Sort values by overall ranking and highest goal differential\n",
    "gDiff_cleaned.sort_values(by = ['GD'], ascending = [False])\n",
    "gDiff_cleaned.Year.unique()"
   ]
  },
  {
   "cell_type": "markdown",
   "metadata": {
    "tags": []
   },
   "source": [
    "### All_players"
   ]
  },
  {
   "cell_type": "code",
   "execution_count": 14,
   "metadata": {},
   "outputs": [],
   "source": [
    "#making sure the years match with all_tables\n",
    "years = [1996, 1997, 2000, 2004, 2005, 2006, 2007, 2008, 2009, 2010, 2011, 2012, 2013,\n",
    "       2014, 2015, 2016, 2017, 2018, 2019]\n",
    "pShots_cleaned = pShots_cleaned[['Player', 'Club', 'G', 'SHTS', 'SOG', 'SOG%', 'Year']]\n",
    "pShots_cleaned = pShots_cleaned[pShots_cleaned.Year.isin(years) == True]\n",
    "pShots_cleaned.sort_values(by = ['Player','Year'], ascending = [True, True])\n",
    "pShots_cleaned = pShots_cleaned.replace(['ATL','VAN','CHI','CIN','CHV','CLB','TB ','DAL','COL','HOU','POR','NYC', 'ORL', 'TOR', 'MTL', 'NSH', 'MIN', 'PHI', 'SEA', 'RSL','LAFC'],['Atlanta United FC','Vancouver Whitecaps FC', 'Chicago Fire', 'FC Cincinnati','Chivas USA','Columbus Crew', 'Tampa Bay Mutiny', 'FC Dallas','Colorado Rapids','Houston Dynamo','Portland Timbers','New York City FC', 'Orlando City SC', 'Toronto FC', 'Montreal Impact', 'Nashville SC', 'Minnesota United FC', 'Philadelphia Union', 'Seattle Sounders FC', 'Real Salt Lake', 'Los Angeles FC'])\n",
    "pShots_cleaned = pShots_cleaned.replace(['NYC'],'New York City FC')\n",
    "pShots_cleaned = pShots_cleaned.replace(['NYR', 'RBNY', 'MET', 'NY', 'NY ', 'MetroStars'],'New York Red Bulls')\n",
    "pShots_cleaned = pShots_cleaned.replace(['DC', 'DC '],'D.C. United')\n",
    "pShots_cleaned = pShots_cleaned.replace(['NE', 'NE '],'New England Revolution')\n",
    "pShots_cleaned = pShots_cleaned.replace(['SKC', 'KC '],'Sporting Kansas City')\n",
    "pShots_cleaned = pShots_cleaned.replace(['SJ', 'SJ '],'San Jose Earthquakes')\n",
    "pShots_cleaned = pShots_cleaned.replace(['LA', 'LA '],'LA Galaxy')\n",
    "values = ['CAN','CIV','ECU','GHA','HAI','HON','JAM','MTQ','PAN','USA','ROC','SLV', 'MIA', 'LFC']\n",
    "pShots_cleaned= pShots_cleaned[pShots_cleaned.Club.isin(values) == False]\n",
    "pShots_cleaned.rename(columns = {'Club':'Team'}, inplace = True)"
   ]
  },
  {
   "cell_type": "markdown",
   "metadata": {},
   "source": [
    "## Wrangle Data"
   ]
  },
  {
   "cell_type": "markdown",
   "metadata": {},
   "source": [
    "### All_players"
   ]
  },
  {
   "cell_type": "code",
   "execution_count": 15,
   "metadata": {},
   "outputs": [
    {
     "data": {
      "text/html": [
       "<div>\n",
       "<style scoped>\n",
       "    .dataframe tbody tr th:only-of-type {\n",
       "        vertical-align: middle;\n",
       "    }\n",
       "\n",
       "    .dataframe tbody tr th {\n",
       "        vertical-align: top;\n",
       "    }\n",
       "\n",
       "    .dataframe thead th {\n",
       "        text-align: right;\n",
       "    }\n",
       "</style>\n",
       "<table border=\"1\" class=\"dataframe\">\n",
       "  <thead>\n",
       "    <tr style=\"text-align: right;\">\n",
       "      <th></th>\n",
       "      <th></th>\n",
       "      <th>SHTS</th>\n",
       "      <th>SOG</th>\n",
       "    </tr>\n",
       "    <tr>\n",
       "      <th>Team</th>\n",
       "      <th>Year</th>\n",
       "      <th></th>\n",
       "      <th></th>\n",
       "    </tr>\n",
       "  </thead>\n",
       "  <tbody>\n",
       "    <tr>\n",
       "      <th rowspan=\"3\" valign=\"top\">Atlanta United FC</th>\n",
       "      <th>2017</th>\n",
       "      <td>345</td>\n",
       "      <td>150</td>\n",
       "    </tr>\n",
       "    <tr>\n",
       "      <th>2018</th>\n",
       "      <td>438</td>\n",
       "      <td>181</td>\n",
       "    </tr>\n",
       "    <tr>\n",
       "      <th>2019</th>\n",
       "      <td>385</td>\n",
       "      <td>132</td>\n",
       "    </tr>\n",
       "    <tr>\n",
       "      <th rowspan=\"2\" valign=\"top\">Chicago Fire</th>\n",
       "      <th>2000</th>\n",
       "      <td>595</td>\n",
       "      <td>278</td>\n",
       "    </tr>\n",
       "    <tr>\n",
       "      <th>2004</th>\n",
       "      <td>381</td>\n",
       "      <td>150</td>\n",
       "    </tr>\n",
       "    <tr>\n",
       "      <th>...</th>\n",
       "      <th>...</th>\n",
       "      <td>...</td>\n",
       "      <td>...</td>\n",
       "    </tr>\n",
       "    <tr>\n",
       "      <th rowspan=\"5\" valign=\"top\">Vancouver Whitecaps FC</th>\n",
       "      <th>2015</th>\n",
       "      <td>289</td>\n",
       "      <td>111</td>\n",
       "    </tr>\n",
       "    <tr>\n",
       "      <th>2016</th>\n",
       "      <td>246</td>\n",
       "      <td>107</td>\n",
       "    </tr>\n",
       "    <tr>\n",
       "      <th>2017</th>\n",
       "      <td>308</td>\n",
       "      <td>104</td>\n",
       "    </tr>\n",
       "    <tr>\n",
       "      <th>2018</th>\n",
       "      <td>220</td>\n",
       "      <td>87</td>\n",
       "    </tr>\n",
       "    <tr>\n",
       "      <th>2019</th>\n",
       "      <td>349</td>\n",
       "      <td>132</td>\n",
       "    </tr>\n",
       "  </tbody>\n",
       "</table>\n",
       "<p>309 rows × 2 columns</p>\n",
       "</div>"
      ],
      "text/plain": [
       "                             SHTS  SOG\n",
       "Team                   Year           \n",
       "Atlanta United FC      2017   345  150\n",
       "                       2018   438  181\n",
       "                       2019   385  132\n",
       "Chicago Fire           2000   595  278\n",
       "                       2004   381  150\n",
       "...                           ...  ...\n",
       "Vancouver Whitecaps FC 2015   289  111\n",
       "                       2016   246  107\n",
       "                       2017   308  104\n",
       "                       2018   220   87\n",
       "                       2019   349  132\n",
       "\n",
       "[309 rows x 2 columns]"
      ]
     },
     "execution_count": 15,
     "metadata": {},
     "output_type": "execute_result"
    }
   ],
   "source": [
    "df = pShots_cleaned.groupby(['Player','Year']).agg({'SHTS': 'sum', 'SOG': 'sum', 'Team':'sum'})\n",
    "df = pShots_cleaned.groupby(['Team','Year']).agg({'SHTS': 'sum', 'SOG': 'sum'})\n",
    "#drop any seasons with less than 200 goals\n",
    "df = df[df['SHTS'] > 200]\n",
    "df"
   ]
  },
  {
   "cell_type": "markdown",
   "metadata": {},
   "source": [
    "### All_tables"
   ]
  },
  {
   "cell_type": "code",
   "execution_count": 16,
   "metadata": {},
   "outputs": [
    {
     "data": {
      "text/html": [
       "<div>\n",
       "<style scoped>\n",
       "    .dataframe tbody tr th:only-of-type {\n",
       "        vertical-align: middle;\n",
       "    }\n",
       "\n",
       "    .dataframe tbody tr th {\n",
       "        vertical-align: top;\n",
       "    }\n",
       "\n",
       "    .dataframe thead th {\n",
       "        text-align: right;\n",
       "    }\n",
       "</style>\n",
       "<table border=\"1\" class=\"dataframe\">\n",
       "  <thead>\n",
       "    <tr style=\"text-align: right;\">\n",
       "      <th></th>\n",
       "      <th>Pos</th>\n",
       "      <th>Team</th>\n",
       "      <th>GP</th>\n",
       "      <th>W</th>\n",
       "      <th>L</th>\n",
       "      <th>GF</th>\n",
       "      <th>GA</th>\n",
       "      <th>GD</th>\n",
       "      <th>Pts</th>\n",
       "      <th>Conference</th>\n",
       "      <th>Year</th>\n",
       "    </tr>\n",
       "  </thead>\n",
       "  <tbody>\n",
       "    <tr>\n",
       "      <th>140</th>\n",
       "      <td>1.0</td>\n",
       "      <td>Columbus Crew</td>\n",
       "      <td>30</td>\n",
       "      <td>12</td>\n",
       "      <td>5</td>\n",
       "      <td>40</td>\n",
       "      <td>32</td>\n",
       "      <td>8</td>\n",
       "      <td>49</td>\n",
       "      <td>Overall</td>\n",
       "      <td>2004</td>\n",
       "    </tr>\n",
       "    <tr>\n",
       "      <th>658</th>\n",
       "      <td>1.0</td>\n",
       "      <td>Los Angeles FC</td>\n",
       "      <td>34</td>\n",
       "      <td>21</td>\n",
       "      <td>4</td>\n",
       "      <td>85</td>\n",
       "      <td>37</td>\n",
       "      <td>48</td>\n",
       "      <td>72</td>\n",
       "      <td>Overall</td>\n",
       "      <td>2019</td>\n",
       "    </tr>\n",
       "    <tr>\n",
       "      <th>566</th>\n",
       "      <td>1.0</td>\n",
       "      <td>Toronto FC</td>\n",
       "      <td>34</td>\n",
       "      <td>20</td>\n",
       "      <td>5</td>\n",
       "      <td>74</td>\n",
       "      <td>37</td>\n",
       "      <td>37</td>\n",
       "      <td>69</td>\n",
       "      <td>Overall</td>\n",
       "      <td>2017</td>\n",
       "    </tr>\n",
       "    <tr>\n",
       "      <th>369</th>\n",
       "      <td>1.0</td>\n",
       "      <td>San Jose Earthquakes</td>\n",
       "      <td>34</td>\n",
       "      <td>19</td>\n",
       "      <td>6</td>\n",
       "      <td>72</td>\n",
       "      <td>43</td>\n",
       "      <td>29</td>\n",
       "      <td>66</td>\n",
       "      <td>Overall</td>\n",
       "      <td>2012</td>\n",
       "    </tr>\n",
       "    <tr>\n",
       "      <th>611</th>\n",
       "      <td>1.0</td>\n",
       "      <td>New York Red Bulls</td>\n",
       "      <td>34</td>\n",
       "      <td>22</td>\n",
       "      <td>7</td>\n",
       "      <td>62</td>\n",
       "      <td>33</td>\n",
       "      <td>29</td>\n",
       "      <td>71</td>\n",
       "      <td>Overall</td>\n",
       "      <td>2018</td>\n",
       "    </tr>\n",
       "    <tr>\n",
       "      <th>162</th>\n",
       "      <td>1.0</td>\n",
       "      <td>San Jose Earthquakes</td>\n",
       "      <td>32</td>\n",
       "      <td>18</td>\n",
       "      <td>4</td>\n",
       "      <td>53</td>\n",
       "      <td>31</td>\n",
       "      <td>22</td>\n",
       "      <td>64</td>\n",
       "      <td>Overall</td>\n",
       "      <td>2005</td>\n",
       "    </tr>\n",
       "    <tr>\n",
       "      <th>211</th>\n",
       "      <td>1.0</td>\n",
       "      <td>D.C. United</td>\n",
       "      <td>30</td>\n",
       "      <td>16</td>\n",
       "      <td>7</td>\n",
       "      <td>56</td>\n",
       "      <td>34</td>\n",
       "      <td>22</td>\n",
       "      <td>55</td>\n",
       "      <td>Overall</td>\n",
       "      <td>2007</td>\n",
       "    </tr>\n",
       "    <tr>\n",
       "      <th>314</th>\n",
       "      <td>1.0</td>\n",
       "      <td>LA Galaxy</td>\n",
       "      <td>34</td>\n",
       "      <td>19</td>\n",
       "      <td>5</td>\n",
       "      <td>48</td>\n",
       "      <td>28</td>\n",
       "      <td>20</td>\n",
       "      <td>67</td>\n",
       "      <td>Overall</td>\n",
       "      <td>2011</td>\n",
       "    </tr>\n",
       "    <tr>\n",
       "      <th>484</th>\n",
       "      <td>1.0</td>\n",
       "      <td>New York Red Bulls</td>\n",
       "      <td>34</td>\n",
       "      <td>18</td>\n",
       "      <td>10</td>\n",
       "      <td>62</td>\n",
       "      <td>43</td>\n",
       "      <td>19</td>\n",
       "      <td>60</td>\n",
       "      <td>Overall</td>\n",
       "      <td>2015</td>\n",
       "    </tr>\n",
       "    <tr>\n",
       "      <th>76</th>\n",
       "      <td>1.0</td>\n",
       "      <td>Sporting Kansas City</td>\n",
       "      <td>32</td>\n",
       "      <td>16</td>\n",
       "      <td>7</td>\n",
       "      <td>47</td>\n",
       "      <td>29</td>\n",
       "      <td>18</td>\n",
       "      <td>57</td>\n",
       "      <td>Overall</td>\n",
       "      <td>2000</td>\n",
       "    </tr>\n",
       "    <tr>\n",
       "      <th>298</th>\n",
       "      <td>1.0</td>\n",
       "      <td>LA Galaxy</td>\n",
       "      <td>30</td>\n",
       "      <td>18</td>\n",
       "      <td>7</td>\n",
       "      <td>44</td>\n",
       "      <td>26</td>\n",
       "      <td>18</td>\n",
       "      <td>59</td>\n",
       "      <td>Overall</td>\n",
       "      <td>2010</td>\n",
       "    </tr>\n",
       "    <tr>\n",
       "      <th>30</th>\n",
       "      <td>1.0</td>\n",
       "      <td>D.C. United</td>\n",
       "      <td>32</td>\n",
       "      <td>17</td>\n",
       "      <td>11</td>\n",
       "      <td>70</td>\n",
       "      <td>53</td>\n",
       "      <td>17</td>\n",
       "      <td>55</td>\n",
       "      <td>Overall</td>\n",
       "      <td>1997</td>\n",
       "    </tr>\n",
       "    <tr>\n",
       "      <th>407</th>\n",
       "      <td>1.0</td>\n",
       "      <td>New York Red Bulls</td>\n",
       "      <td>34</td>\n",
       "      <td>17</td>\n",
       "      <td>9</td>\n",
       "      <td>58</td>\n",
       "      <td>41</td>\n",
       "      <td>17</td>\n",
       "      <td>59</td>\n",
       "      <td>Overall</td>\n",
       "      <td>2013</td>\n",
       "    </tr>\n",
       "    <tr>\n",
       "      <th>10</th>\n",
       "      <td>1.0</td>\n",
       "      <td>Tampa Bay Mutiny</td>\n",
       "      <td>32</td>\n",
       "      <td>19</td>\n",
       "      <td>12</td>\n",
       "      <td>66</td>\n",
       "      <td>51</td>\n",
       "      <td>15</td>\n",
       "      <td>58</td>\n",
       "      <td>Overall</td>\n",
       "      <td>1996</td>\n",
       "    </tr>\n",
       "    <tr>\n",
       "      <th>445</th>\n",
       "      <td>1.0</td>\n",
       "      <td>Seattle Sounders FC</td>\n",
       "      <td>34</td>\n",
       "      <td>20</td>\n",
       "      <td>10</td>\n",
       "      <td>65</td>\n",
       "      <td>50</td>\n",
       "      <td>15</td>\n",
       "      <td>64</td>\n",
       "      <td>Overall</td>\n",
       "      <td>2014</td>\n",
       "    </tr>\n",
       "    <tr>\n",
       "      <th>186</th>\n",
       "      <td>1.0</td>\n",
       "      <td>D.C. United</td>\n",
       "      <td>32</td>\n",
       "      <td>15</td>\n",
       "      <td>7</td>\n",
       "      <td>52</td>\n",
       "      <td>38</td>\n",
       "      <td>14</td>\n",
       "      <td>55</td>\n",
       "      <td>Overall</td>\n",
       "      <td>2006</td>\n",
       "    </tr>\n",
       "    <tr>\n",
       "      <th>238</th>\n",
       "      <td>1.0</td>\n",
       "      <td>Columbus Crew</td>\n",
       "      <td>30</td>\n",
       "      <td>17</td>\n",
       "      <td>7</td>\n",
       "      <td>50</td>\n",
       "      <td>36</td>\n",
       "      <td>14</td>\n",
       "      <td>57</td>\n",
       "      <td>Overall</td>\n",
       "      <td>2008</td>\n",
       "    </tr>\n",
       "    <tr>\n",
       "      <th>267</th>\n",
       "      <td>1.0</td>\n",
       "      <td>Columbus Crew</td>\n",
       "      <td>30</td>\n",
       "      <td>13</td>\n",
       "      <td>7</td>\n",
       "      <td>41</td>\n",
       "      <td>31</td>\n",
       "      <td>10</td>\n",
       "      <td>49</td>\n",
       "      <td>Overall</td>\n",
       "      <td>2009</td>\n",
       "    </tr>\n",
       "    <tr>\n",
       "      <th>524</th>\n",
       "      <td>1.0</td>\n",
       "      <td>FC Dallas</td>\n",
       "      <td>34</td>\n",
       "      <td>17</td>\n",
       "      <td>8</td>\n",
       "      <td>50</td>\n",
       "      <td>40</td>\n",
       "      <td>10</td>\n",
       "      <td>60</td>\n",
       "      <td>Overall</td>\n",
       "      <td>2016</td>\n",
       "    </tr>\n",
       "  </tbody>\n",
       "</table>\n",
       "</div>"
      ],
      "text/plain": [
       "     Pos                   Team  GP   W   L  GF  GA  GD Pts Conference  Year\n",
       "140  1.0          Columbus Crew  30  12   5  40  32   8  49    Overall  2004\n",
       "658  1.0        Los Angeles FC   34  21   4  85  37  48  72    Overall  2019\n",
       "566  1.0            Toronto FC   34  20   5  74  37  37  69    Overall  2017\n",
       "369  1.0  San Jose Earthquakes   34  19   6  72  43  29  66    Overall  2012\n",
       "611  1.0    New York Red Bulls   34  22   7  62  33  29  71    Overall  2018\n",
       "162  1.0  San Jose Earthquakes   32  18   4  53  31  22  64    Overall  2005\n",
       "211  1.0           D.C. United   30  16   7  56  34  22  55    Overall  2007\n",
       "314  1.0              LA Galaxy  34  19   5  48  28  20  67    Overall  2011\n",
       "484  1.0    New York Red Bulls   34  18  10  62  43  19  60    Overall  2015\n",
       "76   1.0   Sporting Kansas City  32  16   7  47  29  18  57    Overall  2000\n",
       "298  1.0              LA Galaxy  30  18   7  44  26  18  59    Overall  2010\n",
       "30   1.0           D.C. United   32  17  11  70  53  17  55    Overall  1997\n",
       "407  1.0    New York Red Bulls   34  17   9  58  41  17  59    Overall  2013\n",
       "10   1.0      Tampa Bay Mutiny   32  19  12  66  51  15  58    Overall  1996\n",
       "445  1.0   Seattle Sounders FC   34  20  10  65  50  15  64    Overall  2014\n",
       "186  1.0           D.C. United   32  15   7  52  38  14  55    Overall  2006\n",
       "238  1.0         Columbus Crew   30  17   7  50  36  14  57    Overall  2008\n",
       "267  1.0         Columbus Crew   30  13   7  41  31  10  49    Overall  2009\n",
       "524  1.0             FC Dallas   34  17   8  50  40  10  60    Overall  2016"
      ]
     },
     "execution_count": 16,
     "metadata": {},
     "output_type": "execute_result"
    }
   ],
   "source": [
    "gDiff_cleaned.sort_values(by = ['Pos', 'GD'], ascending = [True, False])"
   ]
  },
  {
   "cell_type": "markdown",
   "metadata": {},
   "source": [
    "# Method Chaining"
   ]
  },
  {
   "cell_type": "code",
   "execution_count": 17,
   "metadata": {},
   "outputs": [
    {
     "name": "stdout",
     "output_type": "stream",
     "text": [
      "No duplicated entries found\n"
     ]
    }
   ],
   "source": [
    "all_players = '../data/raw/all_players.csv'\n",
    "all_tables = '../data/raw/all_tables.csv'\n",
    "processed_at = pf1.load_and_process_goals(all_tables)"
   ]
  },
  {
   "cell_type": "code",
   "execution_count": 18,
   "metadata": {},
   "outputs": [
    {
     "name": "stdout",
     "output_type": "stream",
     "text": [
      "No. of duplicated entries:  337\n",
      "         Player Club POS  GP  GS  MINS  G  A  SHTS  SOG  ...  RdA A/90min  FC  \\\n",
      "32    A.J. Wood  MET   F  21  13  1136  5  2    34   22  ...    0    0.16  17   \n",
      "250   A.J. Wood  MET   F  21  13  1136  5  2    34   22  ...    0    0.16  17   \n",
      "9671  A.J. Wood  NaN   F   2   2    96  0  0     1    1  ...    0    0.00   1   \n",
      "9790  A.J. Wood  NaN   F   2   2    96  0  0     1    1  ...    0    0.00   1   \n",
      "153   Adam Frye  TB    D  15   9   725  0  1     6    4  ...    0    0.12  14   \n",
      "\n",
      "      FS  OFF  YC  RC    SOG%  Year  Season  \n",
      "32    25    4   0   0   64.71  1996     reg  \n",
      "250   25    4   0   0   64.71  1996     reg  \n",
      "9671   2    0   0   0  100.00  1996    post  \n",
      "9790   2    0   0   0  100.00  1996    post  \n",
      "153    6    3   3   1   66.67  1996     reg  \n",
      "\n",
      "[5 rows x 28 columns]\n"
     ]
    }
   ],
   "source": [
    "processed_ap = pf1.load_and_process_players(all_players)\n",
    "# I need to add the clubs goals like in the pipeline analysis"
   ]
  },
  {
   "cell_type": "markdown",
   "metadata": {},
   "source": [
    "# Analysis"
   ]
  },
  {
   "cell_type": "markdown",
   "metadata": {
    "tags": []
   },
   "source": [
    "### All_tables analysis\n",
    "1. The Team with the league championship and the greatest goal differential is Los Angeles with +48 in the 2019 season\n",
    "2. The Team with the league championship and the worst goal differential is Columbus Crew with +8 in the 2004 season\n",
    "(this team played 4 less games)\n",
    "3. The Team with the league championship and the worst goal differential in a 34 game season is FC Dallas with +10 in the 2016 season\n"
   ]
  },
  {
   "cell_type": "markdown",
   "metadata": {},
   "source": [
    "### All_players analysis\n",
    "1. Los Angeles has 588 Shots and 220 Shots on goal in the 2019 season\n",
    "2. Columbus Crew had 335 Shots and 147 Shots on goal in the 2004 season\n",
    "3. FC Dallas had 230 Shots and 88 Shots on Goal in the 2016 season"
   ]
  },
  {
   "cell_type": "code",
   "execution_count": 19,
   "metadata": {},
   "outputs": [
    {
     "data": {
      "text/plain": [
       "<AxesSubplot:>"
      ]
     },
     "execution_count": 19,
     "metadata": {},
     "output_type": "execute_result"
    },
    {
     "data": {
      "image/png": "[encoded data removed]",
      "text/plain": [
       "<Figure size 432x288 with 2 Axes>"
      ]
     },
     "metadata": {
      "needs_background": "light"
     },
     "output_type": "display_data"
    }
   ],
   "source": [
    "corr = gDiff_cleaned.corr()\n",
    "sns.heatmap(corr, xticklabels=corr.columns, yticklabels=corr.columns, annot=True, cmap=sns.diverging_palette(220,20,as_cmap=True))"
   ]
  },
  {
   "cell_type": "markdown",
   "metadata": {},
   "source": [
    "In this heatmap, there is a highly positive correlation with goals for and wins, and similarly with goals against and losses."
   ]
  },
  {
   "cell_type": "code",
   "execution_count": 20,
   "metadata": {},
   "outputs": [
    {
     "data": {
      "text/plain": [
       "<AxesSubplot:xlabel='GA', ylabel='L'>"
      ]
     },
     "execution_count": 20,
     "metadata": {},
     "output_type": "execute_result"
    },
    {
     "data": {
      "image/png": "[encoded data removed]",
      "text/plain": [
       "<Figure size 432x288 with 1 Axes>"
      ]
     },
     "metadata": {
      "needs_background": "light"
     },
     "output_type": "display_data"
    }
   ],
   "source": [
    "gDiff_cleaned.plot(kind='scatter', x='GA', y='L')"
   ]
  },
  {
   "cell_type": "code",
   "execution_count": 21,
   "metadata": {},
   "outputs": [
    {
     "data": {
      "text/plain": [
       "<seaborn.axisgrid.PairGrid at 0x28104536a60>"
      ]
     },
     "execution_count": 21,
     "metadata": {},
     "output_type": "execute_result"
    },
    {
     "data": {
      "image/png": "[encoded data removed]",
      "text/plain": [
       "<Figure size 1260x1260 with 56 Axes>"
      ]
     },
     "metadata": {
      "needs_background": "light"
     },
     "output_type": "display_data"
    }
   ],
   "source": [
    "sns.pairplot(gDiff_cleaned)"
   ]
  },
  {
   "cell_type": "markdown",
   "metadata": {},
   "source": [
    "What's really interesting about this pairplot is the Goals Against and Pos graph. In the heatmap we see the GA has a positive correlation with losses but in the GA and Pos pairplot, there are teams very close to the 1 position and middle of the pack with very high goals against."
   ]
  },
  {
   "cell_type": "code",
   "execution_count": 22,
   "metadata": {},
   "outputs": [
    {
     "data": {
      "image/png": "[encoded data removed]",
      "text/plain": [
       "<Figure size 432x288 with 1 Axes>"
      ]
     },
     "metadata": {
      "needs_background": "light"
     },
     "output_type": "display_data"
    }
   ],
   "source": [
    "boxplot = pShots_cleaned.boxplot(grid=False, vert=False, fontsize=15)"
   ]
  },
  {
   "cell_type": "code",
   "execution_count": 23,
   "metadata": {},
   "outputs": [
    {
     "data": {
      "text/plain": [
       "<AxesSubplot:>"
      ]
     },
     "execution_count": 23,
     "metadata": {},
     "output_type": "execute_result"
    },
    {
     "data": {
      "image/png": "[encoded data removed]",
      "text/plain": [
       "<Figure size 432x288 with 2 Axes>"
      ]
     },
     "metadata": {
      "needs_background": "light"
     },
     "output_type": "display_data"
    }
   ],
   "source": [
    "corr2 = pShots_cleaned.corr()\n",
    "sns.heatmap(corr2, xticklabels=corr2.columns, yticklabels=corr2.columns, annot=True, cmap=\"YlGnBu\")"
   ]
  },
  {
   "cell_type": "markdown",
   "metadata": {},
   "source": [
    "# Saving Data"
   ]
  },
  {
   "cell_type": "code",
   "execution_count": 24,
   "metadata": {},
   "outputs": [],
   "source": [
    "processed_ap.to_csv('../data/processed/processed_ap.csv')\n",
    "processed_at.to_csv('../data/processed/processed_at.csv')"
   ]
  },
  {
   "cell_type": "code",
   "execution_count": null,
   "metadata": {},
   "outputs": [],
   "source": []
  }
 ],
 "metadata": {
  "interpreter": {
   "hash": "8bc4ad493ecf58d48e40c090083f386f3fc71220c5632364cf060827b2f56011"
  },
  "kernelspec": {
   "display_name": "Python 3 (ipykernel)",
   "language": "python",
   "name": "python3"
  },
  "language_info": {
   "codemirror_mode": {
    "name": "ipython",
    "version": 3
   },
   "file_extension": ".py",
   "mimetype": "text/x-python",
   "name": "python",
   "nbconvert_exporter": "python",
   "pygments_lexer": "ipython3",
   "version": "3.9.5"
  }
 },
 "nbformat": 4,
 "nbformat_minor": 4
}
