{
 "cells": [
  {
   "cell_type": "markdown",
   "source": [
    "# Napatr Sansaneeyawet"
   ],
   "metadata": {}
  },
  {
   "cell_type": "markdown",
   "source": [
    "## Research question/interests\r\n",
    "\r\n",
    "I am researching which MLS playoff winning team has the worst goal differential and how their saves made by their goalkeeper, compare with the team with the best goal differential."
   ],
   "metadata": {}
  }
 ],
 "metadata": {
  "orig_nbformat": 4,
  "language_info": {
   "name": "plaintext"
  }
 },
 "nbformat": 4,
 "nbformat_minor": 2
}
